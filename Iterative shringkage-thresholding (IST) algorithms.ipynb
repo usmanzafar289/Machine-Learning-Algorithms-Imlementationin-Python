{
 "cells": [
  {
   "cell_type": "markdown",
   "metadata": {},
   "source": [
    "# Iterative Shrinkage/Thresholding (IST) algorithms"
   ]
  },
  {
   "cell_type": "code",
   "execution_count": 93,
   "metadata": {
    "collapsed": true
   },
   "outputs": [],
   "source": [
    "# Wensheng Sun\n",
    "# Reference: Sergios' Machine Learning book, 10.2.2"
   ]
  },
  {
   "cell_type": "code",
   "execution_count": 96,
   "metadata": {},
   "outputs": [],
   "source": [
    "import numpy as np\n",
    "\n",
    "class IST(object):\n",
    "    \"\"\"Iterative Shrinkage/Thresholding class\"\"\"\n",
    "    def __init__(self,mu=1,c=.1,N_max=100,err_tol=0.0001,k0=3):\n",
    "        self.mu = mu # learnign rate \n",
    "        self.c=c # lambda : const for l1 regularization weight\n",
    "        self.N_max=N_max # maximum number of iterations\n",
    "        self.err_tol=err_tol # error tolerance\n",
    "        self.alpha = self.c*self.mu # soft thresholding \n",
    "        self.k0 = k0 # assume k0 sparse\n",
    "        \n",
    "    def estimate(self,X,y):\n",
    "        \n",
    "        N,L = X.shape # N: number of samples, L: unknown parameter dimensionality\n",
    "        theta=np.zeros(L)\n",
    "        err=y\n",
    "        ii = 0\n",
    "        \n",
    "        while ii < self.N_max and np.linalg.norm(err) > self.err_tol:\n",
    "            theta_tmp = theta + self.mu*X.T.dot(err)\n",
    "            theta = self.hard_thresholding(theta_tmp)\n",
    "            err = y-X.dot(theta)\n",
    "            #print(theta)\n",
    "            ii+=1\n",
    "        self.n_iter=ii\n",
    "        self.err=err\n",
    "        self.theta=theta\n",
    "        return self\n",
    "    \n",
    "    def hard_thresholding(self,x):\n",
    "        ind = np.argpartition(x,-self.k0)[-self.k0:]\n",
    "        x_tmp = np.zeros(x.shape)\n",
    "        x_tmp[ind]=x[ind]\n",
    "        return x_tmp\n",
    "            \n",
    "    def soft_thresholding(self,x):\n",
    "        signs=np.sign(x)\n",
    "        x_tmp=abs(x)-self.alpha # abs-threshold\n",
    "        x_tmp[x_tmp<0] = 0 # force zeros for negative entries\n",
    "        res=signs*x_tmp\n",
    "        res[res<=0] =0\n",
    "        return res"
   ]
  },
  {
   "cell_type": "code",
   "execution_count": 97,
   "metadata": {},
   "outputs": [
    {
     "data": {
      "image/png": "[encoded data removed]",
      "text/plain": [
       "<matplotlib.figure.Figure at 0x7f31c57a6e10>"
      ]
     },
     "metadata": {},
     "output_type": "display_data"
    }
   ],
   "source": [
    "def main():\n",
    "    \n",
    "    L = 20 # dimension of the unknown vector w \n",
    "    k0 = 3 # assume w is k0-sparse\n",
    "    w = np.zeros(L)\n",
    "    rgn = np.random.RandomState(0)\n",
    "    N_max =30 # max number of sensing samples\n",
    "   \n",
    "    # randomly choose k0 entries, and randomly assign values\n",
    "    w[rgn.randint(0,L,k0)] = rgn.normal(loc=0.0,scale=1.0,size=k0)\n",
    "\n",
    "    ist = IST(err_tol=0.001,mu=0.03,c=7,k0=k0)\n",
    "    errors = [] # trace the errors \n",
    "    start=1\n",
    "    #N=15\n",
    "    for N in range(start,N_max):\n",
    "        X = rgn.normal(loc=0.0,scale=1.0,size=(N,L))\n",
    "        y = X.dot(w)\n",
    "        ist.estimate(X,y)\n",
    "        w_hat = ist.theta\n",
    "        errors.append(np.linalg.norm(w-w_hat))\n",
    "    #print(errors)\n",
    "    #print(w_hat)\n",
    "        \n",
    "    # visualize the errors\n",
    "    import matplotlib.pyplot as plt\n",
    "    plt.figure()\n",
    "    plt.plot(np.arange(start,N_max), errors,marker='o')\n",
    "    plt.ylabel('l2-norm error')\n",
    "    plt.xlabel('# of samples')\n",
    "    plt.title('Performance of the CSMP algorithm')\n",
    "    plt.show()\n",
    "\n",
    "\n",
    "if __name__=='__main__':\n",
    "    main()"
   ]
  },
  {
   "cell_type": "code",
   "execution_count": null,
   "metadata": {
    "collapsed": true
   },
   "outputs": [],
   "source": []
  }
 ],
 "metadata": {
  "kernelspec": {
   "display_name": "Python 3",
   "language": "python",
   "name": "python3"
  },
  "language_info": {
   "codemirror_mode": {
    "name": "ipython",
    "version": 3
   },
   "file_extension": ".py",
   "mimetype": "text/x-python",
   "name": "python",
   "nbconvert_exporter": "python",
   "pygments_lexer": "ipython3",
   "version": "3.6.5"
  }
 },
 "nbformat": 4,
 "nbformat_minor": 2
}

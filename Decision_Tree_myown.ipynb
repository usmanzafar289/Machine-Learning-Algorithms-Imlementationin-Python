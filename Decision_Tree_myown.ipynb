{
 "cells": [
  {
   "cell_type": "markdown",
   "metadata": {},
   "source": [
    "# My Own Decision Tree Classifier"
   ]
  },
  {
   "cell_type": "code",
   "execution_count": 538,
   "metadata": {
    "collapsed": true
   },
   "outputs": [],
   "source": [
    "# import data\n",
    "from sklearn import datasets\n",
    "iris = datasets.load_iris()\n",
    "X = iris.data[:,[2,3]]\n",
    "y = iris.target\n",
    "y[y==1]=0\n",
    "from sklearn.model_selection import train_test_split\n",
    "X_train,X_test,y_train,y_test = train_test_split(X,y,test_size=0.3,random_state=1,stratify=y)"
   ]
  },
  {
   "cell_type": "code",
   "execution_count": 539,
   "metadata": {
    "collapsed": true
   },
   "outputs": [],
   "source": [
    "import numpy as np\n",
    "-\n",
    "def get_imp(p,w,metric='entropy'):\n",
    "  \"\"\" Calculate the impurity index\n",
    "  p: is the probability vector, the sum of which equal to 1 \"\"\"\n",
    "  return {\n",
    "       'entropy': (-p*np.log2(p)).dot(w),\n",
    "       'error' : (1-np.max(p))*w[np.argmax(p)],\n",
    "       'gini': (p*(1-p)).dot(w)\n",
    "      }.get(metric)\n",
    "\n",
    "def info_gain(D,split,w,metric='entropy'):\n",
    "  \"\"\" the information gain of a given split\n",
    "  split: (idx_feature, threshold) is a tuple \"\"\"\n",
    "  Dl,Dr,idx_l,idx_r = split_data(D,split)\n",
    "  Nl = sum(w[idx_l])#len(Dl[1])\n",
    "  Nr = sum(w[idx_r])#len(Dr[1])\n",
    "  Np = sum(w)#len(D[1])\n",
    "  #print(Dl[1])\n",
    "  #print(w[idx_l]) \n",
    "  pl,weight_l =  to_freq(Dl[1],w[idx_l])\n",
    "  pr,weight_r = to_freq(Dr[1],w[idx_r])\n",
    "  p,weight = to_freq(D[1],w)\n",
    "  Il = get_imp(pl,weight_l,metric=metric)\n",
    "  Ir = get_imp(pr,weight_r,metric=metric)\n",
    "  Ip = get_imp(p,weight,metric=metric)\n",
    "  return Np*(Ip - Nl/Np * Il - Nr/Np*Ir)\n",
    "\n",
    "\n",
    "###################################################\n",
    "# class definition \n",
    "class BT_node(object):\n",
    "  \"\"\" a simple binary tree node base class\"\"\"\n",
    "  def __init__(self,Data=None,weight=None,parent=None,metric='entropy',max_depth=1):\n",
    "    self.Data = Data\n",
    "    self.w=weight\n",
    "    self.parent = parent\n",
    "    self.metric = metric\n",
    "    self.max_depth=max_depth\n",
    "\n",
    "  def update(self):\n",
    "    self.level = self.parent.level+1 if self.parent is not None  else 0\n",
    "    self.label = label_it(self.Data)\n",
    "    X,y = self.Data\n",
    "    sps = get_threshold_from_mat(X)\n",
    "    # number of samples are 1 or zero || uniform class || max level reached || some features are identical, but labels are different\n",
    "    if len(y) <= 1 or self.level>=self.max_depth or len(sps)==0:\n",
    "        self.lchild = None\n",
    "        self.rchild = None\n",
    "        self.split = None\n",
    "    else:\n",
    "        #print(self.Data[0])\n",
    "        split,Dl,Dr,wl,wr = self.get_child(sps)\n",
    "        #print(split)\n",
    "        self.lchild = BT_node(Data=Dl,weight=wl,parent=self,max_depth=self.max_depth)\n",
    "        self.lchild.update()\n",
    "        self.rchild = BT_node(Data=Dr,weight=wr,parent=self,max_depth=self.max_depth)\n",
    "        self.rchild.update()\n",
    "        self.split = split\n",
    "        self.updated = True\n",
    "        return self\n",
    "    \n",
    "  def get_child(self,sps):\n",
    "    \"\"\" train the decision tree \"\"\"\n",
    "    X,y = self.Data\n",
    "    IGs = np.array([info_gain((X,y),sp,self.w,self.metric) for sp in sps])\n",
    "    # return the first maximum information gain\n",
    "    cond = IGs==np.max(IGs)\n",
    "    self.IG_max = IGs[cond]\n",
    "    tmp = np.array(sps)[cond]\n",
    "    split = (int(tmp[0,0]),tmp[0,1])\n",
    "    # calculate the class label \n",
    "    Dl,Dr,idx_l,idx_r = split_data((X,y),split)\n",
    "    return (split,Dl,Dr,self.w[idx_l],self.w[idx_r])\n",
    "\n",
    "\n",
    "  def info(self):\n",
    "    \"\"\" print out informations \"\"\"\n",
    "    print('split is: ',self.split)\n",
    "    print('childrens are: ',self.lchild,self.rchild)\n",
    "    print('node depth is: ',self.level)\n",
    "    print('parent is: ',self.parent)\n",
    "\n",
    "\n",
    "\n",
    "class Decision_Tree(object):\n",
    "  \"\"\" Decision Tree, by Wensheng Sun\"\"\"\n",
    "  def __init__(self,max_depth=3,random_state=1,impurity_fun='entropy',debug=False):\n",
    "    self.random_state=random_state\n",
    "    self.impurity_fun = impurity_fun\n",
    "    self.max_depth = max_depth\n",
    "    self.debug = debug\n",
    "\n",
    "  def fit(self,X,y,w):\n",
    "    \"\"\" growing the Binary Tree \"\"\"\n",
    "    self.root = BT_node((X,y),w,metric=self.impurity_fun,max_depth=self.max_depth)\n",
    "    self.root.update()\n",
    "    self.root.info()\n",
    "    \n",
    "  def find_leaf(self,x):\n",
    "    node = self.root\n",
    "    while True:\n",
    "        if node.split is None:\n",
    "            break\n",
    "        else:\n",
    "            if x[node.split[0]] <= node.split[1]:\n",
    "            # print('the %d feature is less than threshold %.2f' %node.split)\n",
    "                node = node.lchild\n",
    "            else:\n",
    "                node = node.rchild\n",
    "    return node.label\n",
    "    \n",
    "  def predict(self,X):\n",
    "    \"\"\" predict the results\"\"\"\n",
    "    if len(X.shape)==1:\n",
    "        X = [X]\n",
    "    return np.array([self.find_leaf(x) for x in X])\n",
    "\n"
   ]
  },
  {
   "cell_type": "code",
   "execution_count": 588,
   "metadata": {},
   "outputs": [
    {
     "name": "stdout",
     "output_type": "stream",
     "text": [
      "split is:  (0, 4.75)\n",
      "childrens are:  <__main__.BT_node object at 0x7f86eb180fd0> <__main__.BT_node object at 0x7f86eb4c7b00>\n",
      "node depth is:  0\n",
      "parent is:  None\n"
     ]
    }
   ],
   "source": [
    "  # instantiate the Decision Tree classifier\n",
    "  dc = Decision_Tree(impurity_fun='error',max_depth=3)\n",
    "  w = np.ones(y_train.shape)/len(y_train)\n",
    "  #rgen =np.random.RandomState(5)\n",
    "  w = rgen.normal(loc=1,scale=0.1,size=y_train.shape)\n",
    "  #w[[88, 90,100]] = 1\n",
    "  w = w/sum(w)\n",
    "  #print(w)\n",
    "  dc.fit(X_train,y_train,w)\n"
   ]
  },
  {
   "cell_type": "code",
   "execution_count": 589,
   "metadata": {},
   "outputs": [
    {
     "data": {
      "text/plain": [
       "3"
      ]
     },
     "execution_count": 589,
     "metadata": {},
     "output_type": "execute_result"
    }
   ],
   "source": [
    "sum(dc.predict(X_test)!=y_test)"
   ]
  },
  {
   "cell_type": "code",
   "execution_count": 590,
   "metadata": {},
   "outputs": [
    {
     "data": {
      "text/plain": [
       "array([0, 2, 2, 2, 0, 2, 2, 0, 0, 0, 0, 0, 0, 2, 0, 2, 0, 0, 0, 0, 0, 2,\n",
       "       2, 0, 0, 0, 0, 0, 2, 0, 0, 0, 0, 0, 0, 2, 2, 2, 0, 0, 0, 0, 2, 2,\n",
       "       0])"
      ]
     },
     "execution_count": 590,
     "metadata": {},
     "output_type": "execute_result"
    }
   ],
   "source": [
    "y_test"
   ]
  },
  {
   "cell_type": "code",
   "execution_count": 591,
   "metadata": {},
   "outputs": [
    {
     "data": {
      "image/png": "[encoded data removed]",
      "text/plain": [
       "<matplotlib.figure.Figure at 0x7f86eb1f7c50>"
      ]
     },
     "metadata": {},
     "output_type": "display_data"
    }
   ],
   "source": [
    "  import pandas as pd\n",
    "  import matplotlib.pyplot as plt\n",
    "  import numpy as np\n",
    "  from Perceptron import plot_decision_regions\n",
    "\n",
    "  #plt.figure()\n",
    "  plot_decision_regions(X,y,classifier=dc)\n",
    "  plt.title('Decision Tree')\n",
    "  plt.xlabel('sepal length [standardized]')\n",
    "  plt.ylabel('petal length [standardized]')\n",
    "  plt.show()\n"
   ]
  },
  {
   "cell_type": "code",
   "execution_count": 544,
   "metadata": {},
   "outputs": [
    {
     "name": "stdout",
     "output_type": "stream",
     "text": [
      "split is:  (0, 5.05)\n",
      "childrens are:  <__main__.BT_node object at 0x7f86eb33e320> <__main__.BT_node object at 0x7f86eb33e400>\n",
      "node depth is:  2\n",
      "parent is:  <__main__.BT_node object at 0x7f86eb33e470>\n"
     ]
    }
   ],
   "source": [
    "dc.root.rchild.lchild.info()"
   ]
  },
  {
   "cell_type": "code",
   "execution_count": 545,
   "metadata": {},
   "outputs": [
    {
     "data": {
      "text/plain": [
       "array([1.25, 1.35, 1.45, 1.55, 1.65, 1.8 , 2.45, 3.15, 3.4 , 3.6 , 3.75,\n",
       "       3.85, 3.95, 4.05, 4.15, 4.25, 4.35, 4.45, 4.55, 4.65, 4.75, 4.85,\n",
       "       4.95, 5.05, 5.15, 5.25, 5.35, 5.45, 5.55, 5.65, 5.75, 5.85, 5.95,\n",
       "       6.05, 6.25, 6.5 , 6.65, 6.8 ])"
      ]
     },
     "execution_count": 545,
     "metadata": {},
     "output_type": "execute_result"
    }
   ],
   "source": [
    "0.5*np.diff(np.unique(X_train[:,0])) + np.unique(X_train[:,0])[:-1]"
   ]
  },
  {
   "cell_type": "code",
   "execution_count": 546,
   "metadata": {},
   "outputs": [
    {
     "data": {
      "text/plain": [
       "array([1.2, 1.3, 1.4, 1.5, 1.6, 1.7, 1.9, 3. , 3.3, 3.5, 3.7, 3.8, 3.9,\n",
       "       4. , 4.1, 4.2, 4.3, 4.4, 4.5, 4.6, 4.7, 4.8, 4.9, 5. , 5.1, 5.2,\n",
       "       5.3, 5.4, 5.5, 5.6, 5.7, 5.8, 5.9, 6. , 6.1, 6.4, 6.6, 6.7, 6.9])"
      ]
     },
     "execution_count": 546,
     "metadata": {},
     "output_type": "execute_result"
    }
   ],
   "source": [
    "np.unique(X_train[:,0])"
   ]
  },
  {
   "cell_type": "code",
   "execution_count": 547,
   "metadata": {},
   "outputs": [
    {
     "data": {
      "text/plain": [
       "0"
      ]
     },
     "execution_count": 547,
     "metadata": {},
     "output_type": "execute_result"
    }
   ],
   "source": [
    "a=get_threshold_from_mat(X_train[[X_train[:,0]==4.8]])\n",
    "len(a)"
   ]
  },
  {
   "cell_type": "code",
   "execution_count": 548,
   "metadata": {},
   "outputs": [
    {
     "data": {
      "text/plain": [
       "array([0.1, 0.2, 0.3, 0.4, 0.5, 0.6, 1. , 1.1, 1.2, 1.3, 1.4, 1.5, 1.6,\n",
       "       1.7, 1.8, 1.9, 2. , 2.1, 2.2, 2.3, 2.4, 2.5, 3. , 3.3, 3.5, 3.7,\n",
       "       3.8, 3.9, 4. , 4.1, 4.2, 4.3, 4.4, 4.5, 4.6, 4.7, 4.8, 4.9, 5. ,\n",
       "       5.1, 5.2, 5.3, 5.4, 5.5, 5.6, 5.7, 5.8, 5.9, 6. , 6.1, 6.4, 6.6,\n",
       "       6.7, 6.9])"
      ]
     },
     "execution_count": 548,
     "metadata": {},
     "output_type": "execute_result"
    }
   ],
   "source": [
    "np.unique(X_train)"
   ]
  },
  {
   "cell_type": "code",
   "execution_count": 549,
   "metadata": {},
   "outputs": [
    {
     "data": {
      "text/plain": [
       "False"
      ]
     },
     "execution_count": 549,
     "metadata": {},
     "output_type": "execute_result"
    }
   ],
   "source": [
    "[] is None"
   ]
  },
  {
   "cell_type": "code",
   "execution_count": 550,
   "metadata": {},
   "outputs": [
    {
     "data": {
      "text/plain": [
       "array([0])"
      ]
     },
     "execution_count": 550,
     "metadata": {},
     "output_type": "execute_result"
    }
   ],
   "source": [
    "dc.predict(X_test[0,:])"
   ]
  },
  {
   "cell_type": "code",
   "execution_count": 551,
   "metadata": {},
   "outputs": [
    {
     "data": {
      "text/plain": [
       "array([4.2, 1.5])"
      ]
     },
     "execution_count": 551,
     "metadata": {},
     "output_type": "execute_result"
    }
   ],
   "source": [
    "X_test[0,:]"
   ]
  },
  {
   "cell_type": "code",
   "execution_count": null,
   "metadata": {
    "collapsed": true
   },
   "outputs": [],
   "source": []
  }
 ],
 "metadata": {
  "kernelspec": {
   "display_name": "Python 3",
   "language": "python",
   "name": "python3"
  },
  "language_info": {
   "codemirror_mode": {
    "name": "ipython",
    "version": 3
   },
   "file_extension": ".py",
   "mimetype": "text/x-python",
   "name": "python",
   "nbconvert_exporter": "python",
   "pygments_lexer": "ipython3",
   "version": "3.6.2"
  }
 },
 "nbformat": 4,
 "nbformat_minor": 2
}

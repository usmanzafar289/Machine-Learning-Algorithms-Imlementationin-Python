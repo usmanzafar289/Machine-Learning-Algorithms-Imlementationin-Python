{
 "cells": [
  {
   "cell_type": "code",
   "execution_count": 12,
   "metadata": {
    "collapsed": true
   },
   "outputs": [],
   "source": [
    "import numpy as np\n",
    "\n",
    "t = np.arange(-10,10,0.01)"
   ]
  },
  {
   "cell_type": "code",
   "execution_count": 13,
   "metadata": {
    "collapsed": true
   },
   "outputs": [],
   "source": [
    "def sigmoid(x):\n",
    "    return 1/(1+np.exp(-x))"
   ]
  },
  {
   "cell_type": "code",
   "execution_count": 14,
   "metadata": {
    "collapsed": true
   },
   "outputs": [],
   "source": [
    "y = sigmoid(t)"
   ]
  },
  {
   "cell_type": "code",
   "execution_count": 15,
   "metadata": {},
   "outputs": [
    {
     "data": {
      "image/png": "[encoded data removed]",
      "text/plain": [
       "<matplotlib.figure.Figure at 0x7f09a1427390>"
      ]
     },
     "metadata": {},
     "output_type": "display_data"
    }
   ],
   "source": [
    "import matplotlib.pyplot as plt\n",
    "plt.plot(t,y,color='r')\n",
    "plt.xlabel('x')\n",
    "plt.ylabel('sigmoid(x)')\n",
    "plt.show()"
   ]
  },
  {
   "cell_type": "code",
   "execution_count": 164,
   "metadata": {
    "collapsed": true
   },
   "outputs": [],
   "source": [
    "class LogisticRegression(object):\n",
    "    \"\"\"Logistic Regression Classifier, reference: Sergios ML book, Chapt.7\n",
    "    Gradient Descent method\"\"\"\n",
    "    def __init__(self,n_iter=50,eta=0.1,random_state=1):\n",
    "        self.n_iter = n_iter\n",
    "        self.eta = eta\n",
    "        self.random_state = random_state\n",
    "        \n",
    "    def sigmoid(self,X):\n",
    "        \"\"\"sigmoidal functoin\"\"\"\n",
    "        return np.array([ 1/(1+np.exp(np.dot(-self.w_,x))) for x in X])\n",
    "    \n",
    "    def add_bias(self,X):\n",
    "        \"\"\"add the dummy bias column\"\"\"\n",
    "        return np.hstack((X,np.ones((X.shape[0],1))))\n",
    "    \n",
    "    def fit(self,X,y):\n",
    "       # y[y==-1] = 0 \n",
    "        X = self.add_bias(X) # add the bias column\n",
    "        rgen = np.random.RandomState(self.random_state)\n",
    "        self.w_ = rgen.normal(loc=0.0,scale=0.01,size=X.shape[1]) # randomize the initial weights\n",
    "        self.errors=[]\n",
    "        for _ in range(self.n_iter):\n",
    "            s = self.sigmoid(X)\n",
    "            #print('s has shape:',s.shape)\n",
    "            #print('X has shape:',X.shape)\n",
    "            gradient = np.dot(X.T,s-y)\n",
    "            update = -self.eta*gradient\n",
    "            self.w_ += update\n",
    "            self.errors.append((y!=self.predict(X[:,:-1])).sum())\n",
    "        return self\n",
    "    def predict(self, X):\n",
    "        \"\"\"classify the inputs\"\"\"\n",
    "        X = self.add_bias(X)\n",
    "        return np.where(self.sigmoid(X) >= 0.5, 1, 0)"
   ]
  },
  {
   "cell_type": "code",
   "execution_count": 165,
   "metadata": {
    "collapsed": true
   },
   "outputs": [],
   "source": [
    "  import pandas as pd\n",
    "  import matplotlib.pyplot as plt\n",
    "  import numpy as np\n",
    "\n",
    "  df=pd.read_csv('iris.data')\n",
    "  df.tail()\n",
    "\n",
    "  # extract setosa and versicolor\n",
    "  y = df.iloc[0:100,4].values\n",
    "  y = np.where(y =='Iris-setosa', 0,1)\n",
    "  #y[60]=-y[60] # flip a sample such that its not linear separable\n",
    "  # extract sepal length and petal length\n",
    "  X = df.iloc[0:100,[0,2]].values\n"
   ]
  },
  {
   "cell_type": "code",
   "execution_count": 166,
   "metadata": {
    "collapsed": true
   },
   "outputs": [],
   "source": [
    "  X_std = np.copy(X)\n",
    "  X_std[:,0] = (X[:,0]-X[:,0].mean()) /X[:,0].std()\n",
    "  X_std[:,1] = (X[:,1]-X[:,1].mean()) /X[:,1].std()\n"
   ]
  },
  {
   "cell_type": "code",
   "execution_count": 178,
   "metadata": {
    "collapsed": true
   },
   "outputs": [],
   "source": [
    "lrc = LogisticRegression(n_iter=70,eta=0.8)"
   ]
  },
  {
   "cell_type": "code",
   "execution_count": 179,
   "metadata": {},
   "outputs": [
    {
     "data": {
      "text/plain": [
       "array([19.78305905, 40.78997675, 13.63429703])"
      ]
     },
     "execution_count": 179,
     "metadata": {},
     "output_type": "execute_result"
    }
   ],
   "source": [
    "lrc.fit(X_std,y)\n",
    "lrc.w_"
   ]
  },
  {
   "cell_type": "code",
   "execution_count": 180,
   "metadata": {},
   "outputs": [
    {
     "data": {
      "image/png": "[encoded data removed]",
      "text/plain": [
       "<matplotlib.figure.Figure at 0x7f099b213c88>"
      ]
     },
     "metadata": {},
     "output_type": "display_data"
    }
   ],
   "source": [
    "plt.figure\n",
    "plt.plot(lrc.errors)\n",
    "plt.xlabel('# of epochs')\n",
    "plt.ylabel('training error')\n",
    "plt.show()"
   ]
  },
  {
   "cell_type": "code",
   "execution_count": 181,
   "metadata": {},
   "outputs": [
    {
     "data": {
      "image/png": "[encoded data removed]",
      "text/plain": [
       "<matplotlib.figure.Figure at 0x7f099b2b5f60>"
      ]
     },
     "metadata": {},
     "output_type": "display_data"
    }
   ],
   "source": [
    "plt.close()\n",
    "from Perceptron import plot_decision_regions\n",
    "plot_decision_regions(X_std,y,classifier=lrc)\n",
    "plt.title('Batched Logistic Regression')\n",
    "plt.xlabel('sepal length [standardized]')\n",
    "plt.ylabel('petal length [standardized]')\n",
    "\n",
    "plt.show()"
   ]
  },
  {
   "cell_type": "code",
   "execution_count": null,
   "metadata": {
    "collapsed": true
   },
   "outputs": [],
   "source": []
  },
  {
   "cell_type": "code",
   "execution_count": null,
   "metadata": {
    "collapsed": true
   },
   "outputs": [],
   "source": []
  }
 ],
 "metadata": {
  "kernelspec": {
   "display_name": "Python 3",
   "language": "python",
   "name": "python3"
  },
  "language_info": {
   "codemirror_mode": {
    "name": "ipython",
    "version": 3
   },
   "file_extension": ".py",
   "mimetype": "text/x-python",
   "name": "python",
   "nbconvert_exporter": "python",
   "pygments_lexer": "ipython3",
   "version": "3.6.2"
  }
 },
 "nbformat": 4,
 "nbformat_minor": 2
}

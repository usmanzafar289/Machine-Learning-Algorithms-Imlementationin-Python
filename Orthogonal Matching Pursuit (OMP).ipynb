{
 "cells": [
  {
   "cell_type": "markdown",
   "metadata": {},
   "source": [
    "# Orthogonal Matching Pursuit (OMP)\n",
    "reference: Sergios' Machine Learning book, Chapt.10"
   ]
  },
  {
   "cell_type": "code",
   "execution_count": 73,
   "metadata": {
    "collapsed": true
   },
   "outputs": [],
   "source": [
    "import numpy as np"
   ]
  },
  {
   "cell_type": "code",
   "execution_count": 74,
   "metadata": {},
   "outputs": [],
   "source": [
    "L = 20 # dimension of the unknown vector w\n",
    "k0 = 3 # assume w is k0-sparse\n",
    "w = np.zeros(L)\n",
    "rgn = np.random.RandomState(0)\n"
   ]
  },
  {
   "cell_type": "code",
   "execution_count": 75,
   "metadata": {},
   "outputs": [],
   "source": [
    "# randomly choose k0 entries, and randomly assign values\n",
    "w[rgn.randint(0,L,k0)] = rgn.normal(loc=0.0,scale=1.0,size=k0)"
   ]
  },
  {
   "cell_type": "code",
   "execution_count": 76,
   "metadata": {
    "collapsed": true
   },
   "outputs": [],
   "source": [
    "N = 20 # dimension of the sensing matrix \n",
    "X = rgn.normal(loc=0.0,scale=1.0,size=(N,L))\n",
    "y = X.dot(w)"
   ]
  },
  {
   "cell_type": "markdown",
   "metadata": {},
   "source": [
    "# The main algorithm "
   ]
  },
  {
   "cell_type": "code",
   "execution_count": 77,
   "metadata": {},
   "outputs": [],
   "source": [
    "def corr(x,y):\n",
    "    return abs(x.dot(y))/np.sqrt((x**2).sum())"
   ]
  },
  {
   "cell_type": "code",
   "execution_count": 78,
   "metadata": {},
   "outputs": [],
   "source": [
    "err_tol = 0.0001\n",
    "theta = np.zeros(L)\n",
    "error = y\n",
    "S = [] # the support\n",
    "ii = 0\n",
    "\n",
    "while np.linalg.norm(error) > err_tol:\n",
    "    # find the column has maximum correlation with the error\n",
    "    corrs = [ corr(x,error) for x in X.T]\n",
    "    ind = np.argmax(corrs)\n",
    "    S.append(ind)\n",
    "    #print(S)\n",
    "    X_active = X[:,S]\n",
    "    # LS estimate using active support\n",
    "    theta_tilde = np.linalg.inv(X_active.T.dot(X_active)).dot(X_active.T).dot(y)\n",
    "    \n",
    "    # insert estimated theta into the correct location\n",
    "    theta[S] = theta_tilde\n",
    "    \n",
    "    # update the error vector\n",
    "    error = y-X.dot(theta)\n",
    "    ii+=1"
   ]
  },
  {
   "cell_type": "code",
   "execution_count": 79,
   "metadata": {},
   "outputs": [
    {
     "data": {
      "text/plain": [
       "array([0.        , 0.        , 0.        , 0.        , 0.        ,\n",
       "       0.        , 0.        , 0.        , 0.        , 1.76405235,\n",
       "       0.        , 0.        , 0.        , 0.        , 0.        ,\n",
       "       0.        , 0.        , 0.        , 0.97873798, 0.40015721])"
      ]
     },
     "execution_count": 79,
     "metadata": {},
     "output_type": "execute_result"
    }
   ],
   "source": [
    "theta"
   ]
  },
  {
   "cell_type": "code",
   "execution_count": 81,
   "metadata": {},
   "outputs": [
    {
     "data": {
      "text/plain": [
       "array([0.        , 0.        , 0.        , 0.        , 0.        ,\n",
       "       0.        , 0.        , 0.        , 0.        , 1.76405235,\n",
       "       0.        , 0.        , 0.        , 0.        , 0.        ,\n",
       "       0.        , 0.        , 0.        , 0.97873798, 0.40015721])"
      ]
     },
     "execution_count": 81,
     "metadata": {},
     "output_type": "execute_result"
    }
   ],
   "source": [
    "w"
   ]
  },
  {
   "cell_type": "markdown",
   "metadata": {},
   "source": [
    "# For visualization, please run the OMP.py file"
   ]
  }
 ],
 "metadata": {
  "kernelspec": {
   "display_name": "Python 3",
   "language": "python",
   "name": "python3"
  },
  "language_info": {
   "codemirror_mode": {
    "name": "ipython",
    "version": 3
   },
   "file_extension": ".py",
   "mimetype": "text/x-python",
   "name": "python",
   "nbconvert_exporter": "python",
   "pygments_lexer": "ipython3",
   "version": "3.6.2"
  }
 },
 "nbformat": 4,
 "nbformat_minor": 2
}

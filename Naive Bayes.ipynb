{
 "cells": [
  {
   "cell_type": "markdown",
   "metadata": {},
   "source": [
    "# Naive Bayes Classifier"
   ]
  },
  {
   "cell_type": "code",
   "execution_count": 1,
   "metadata": {
    "collapsed": true
   },
   "outputs": [],
   "source": [
    "# import data\n",
    "from sklearn import datasets\n",
    "iris = datasets.load_iris()\n",
    "X = iris.data[:,[2,3]]\n",
    "y = iris.target\n",
    "\n",
    "from sklearn.model_selection import train_test_split\n",
    "X_train,X_test,y_train,y_test = train_test_split(X,y,test_size=0.3,random_state=1,stratify=y)"
   ]
  },
  {
   "cell_type": "code",
   "execution_count": 68,
   "metadata": {},
   "outputs": [],
   "source": [
    "import numpy as np\n",
    "import scipy.stats as ss\n",
    "\n",
    "class NaiveBayes(object):\n",
    "    \"\"\"The Naive Bayes Classifier\n",
    "    Assume Gaussian distributions for each feature\"\"\"\n",
    "    def __init__(self):\n",
    "        pass\n",
    "    \n",
    "    def fit(self,X,y):\n",
    "        self.cls = np.unique(y)\n",
    "        N, self.N_feature = X.shape\n",
    "        self.priors = np.array([len(y[y==cl])/N for cl in self.cls]) # estimate the priors \n",
    "        \n",
    "        self.m = [ np.mean(X[y==cl,:],axis=0) for cl in self.cls]\n",
    "        self.std = [np.std(X[y==cl,:],axis=0) for cl in self.cls]\n",
    "        return self\n",
    "    \n",
    "    def predict(self,X):\n",
    "        return np.array([self.predict1(x) for x in X])\n",
    "    \n",
    "    def predict1(self,x):\n",
    "        \"\"\"predict one sample \"\"\"\n",
    "        x_norm = (x-self.m)/self.std\n",
    "        probs_tmp=ss.norm(0,1).pdf(x_norm)\n",
    "        func = lambda x: x[0]*x[1]\n",
    "        self.liklihoods = np.array([func(x) for x in probs_tmp])\n",
    "        self.posteriors = self.liklihoods*self.priors\n",
    "        return self.cls[np.argmax(self.posteriors)]"
   ]
  },
  {
   "cell_type": "code",
   "execution_count": 69,
   "metadata": {},
   "outputs": [
    {
     "data": {
      "text/plain": [
       "<__main__.NaiveBayes at 0x7f5410137668>"
      ]
     },
     "execution_count": 69,
     "metadata": {},
     "output_type": "execute_result"
    }
   ],
   "source": [
    "nb = NaiveBayes()\n",
    "nb.fit(X_train,y_train)"
   ]
  },
  {
   "cell_type": "code",
   "execution_count": 70,
   "metadata": {},
   "outputs": [
    {
     "data": {
      "text/plain": [
       "[array([1.45714286, 0.24      ]),\n",
       " array([4.27428571, 1.32285714]),\n",
       " array([5.63714286, 2.02571429])]"
      ]
     },
     "execution_count": 70,
     "metadata": {},
     "output_type": "execute_result"
    }
   ],
   "source": [
    "nb.m"
   ]
  },
  {
   "cell_type": "code",
   "execution_count": 71,
   "metadata": {},
   "outputs": [
    {
     "data": {
      "text/plain": [
       "[array([0.19314793, 0.09007933]),\n",
       " array([0.45188042, 0.20436063]),\n",
       " array([0.56065559, 0.28818928])]"
      ]
     },
     "execution_count": 71,
     "metadata": {},
     "output_type": "execute_result"
    }
   ],
   "source": [
    "nb.std"
   ]
  },
  {
   "cell_type": "code",
   "execution_count": 73,
   "metadata": {},
   "outputs": [
    {
     "data": {
      "text/plain": [
       "array([ 0,  0,  0, -1,  0,  0,  0,  0,  0,  0,  0,  0,  0,  0,  0,  0,  0,\n",
       "        0,  0,  0,  0,  0,  0,  0,  0,  0,  0,  0,  0,  0,  0,  0,  0,  0,\n",
       "        0,  0,  0,  0,  0,  0,  0,  0,  0,  0,  0])"
      ]
     },
     "execution_count": 73,
     "metadata": {},
     "output_type": "execute_result"
    }
   ],
   "source": [
    "nb.predict(X_test)-y_test"
   ]
  },
  {
   "cell_type": "code",
   "execution_count": 74,
   "metadata": {},
   "outputs": [
    {
     "data": {
      "image/png": "[encoded data removed]",
      "text/plain": [
       "<matplotlib.figure.Figure at 0x7f5410621c18>"
      ]
     },
     "metadata": {},
     "output_type": "display_data"
    }
   ],
   "source": [
    "  import pandas as pd\n",
    "  import matplotlib.pyplot as plt\n",
    "  import numpy as np\n",
    "  from Perceptron import plot_decision_regions\n",
    "\n",
    "  #plt.figure()\n",
    "  plot_decision_regions(X,y,classifier=nb)\n",
    "  plt.title('Naive Bayes')\n",
    "  plt.xlabel('sepal length [standardized]')\n",
    "  plt.ylabel('petal length [standardized]')\n",
    "  plt.show()"
   ]
  },
  {
   "cell_type": "code",
   "execution_count": null,
   "metadata": {
    "collapsed": true
   },
   "outputs": [],
   "source": []
  }
 ],
 "metadata": {
  "kernelspec": {
   "display_name": "Python 3",
   "language": "python",
   "name": "python3"
  },
  "language_info": {
   "codemirror_mode": {
    "name": "ipython",
    "version": 3
   },
   "file_extension": ".py",
   "mimetype": "text/x-python",
   "name": "python",
   "nbconvert_exporter": "python",
   "pygments_lexer": "ipython3",
   "version": "3.6.5"
  }
 },
 "nbformat": 4,
 "nbformat_minor": 2
}

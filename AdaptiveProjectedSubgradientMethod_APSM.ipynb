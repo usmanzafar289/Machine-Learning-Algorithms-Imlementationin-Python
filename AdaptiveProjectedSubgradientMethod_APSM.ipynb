{
 "cells": [
  {
   "cell_type": "markdown",
   "metadata": {},
   "source": [
    "# The Adaptive Projected Subgradient Method (APSM)"
   ]
  },
  {
   "cell_type": "markdown",
   "metadata": {},
   "source": [
    "## Reference: Sergios' Machine Learning book"
   ]
  },
  {
   "cell_type": "code",
   "execution_count": 2,
   "metadata": {
    "collapsed": true
   },
   "outputs": [],
   "source": [
    "import numpy as np"
   ]
  },
  {
   "cell_type": "code",
   "execution_count": 16,
   "metadata": {},
   "outputs": [],
   "source": [
    "def norm(x):\n",
    "    return np.sqrt(sum(x**2))\n",
    "\n",
    "def projection(y,x,epsilon,theta):\n",
    "    \"\"\"The projection of a point theta, on hyperplane/hyperslab defined by (y,x,epsilon) \"\"\"\n",
    "    v = np.dot(x,theta) -y\n",
    "    if v+epsilon < 0:\n",
    "        beta = (-v -epsilon)/norm(x)**2\n",
    "    elif v-epsilon > 0:\n",
    "        beta = (-v + epsilon)/norm(x)**2\n",
    "    else:\n",
    "        beta = 0\n",
    "    return theta + beta*x"
   ]
  },
  {
   "cell_type": "code",
   "execution_count": 79,
   "metadata": {},
   "outputs": [],
   "source": [
    "# Generate data\n",
    "rgen = np.random.RandomState(1)\n",
    "l = 100 # the dimensionality of the unknown parameter\n",
    "theta = rgen.normal(loc=0,scale=1,size=l) # the true value of the model y = theta*x + eta\n",
    "q = 30 # the window length of the APSM algorithm\n",
    "N = 3500 # number of observed samples\n",
    "\n",
    "\n",
    "sigma = 0.1 # the noise variance of eta\n",
    "factor = 0.5 # mu = factor* M_n\n",
    "epsilon = np.sqrt(1)*sigma # the sensitivity of linear e-insensitive lost function\n",
    "\n",
    "\n",
    "# generate the observations\n",
    "eta = rgen.normal(loc=0,scale=sigma,size=N)\n",
    "X = rgen.normal(loc=0,scale=1,size=(N,l))\n",
    "y = X.dot(theta)+eta\n",
    "\n",
    "theta0 = rgen.normal(loc=0,scale=1,size=l) # initial value\n",
    "mse=[]\n",
    "# The main loop of estimating theta\n",
    "for i in range(N-1):\n",
    "    n = i+1\n",
    "    if n >1:\n",
    "        theta_hat_old = theta_hat_new\n",
    "    else:\n",
    "        theta_hat_old = theta0\n",
    "    # updating the parameter\n",
    "    if n < q:\n",
    "        idx = [ i for i in range(0,n)]\n",
    "        w = np.ones(n)*(1/n)\n",
    "    else:\n",
    "        idx = [ i for i in range(n-q+1,n+1)]\n",
    "        w = np.ones(q)/q\n",
    "    \n",
    "    X_active = X[idx,:]\n",
    "    y_active = y[idx]\n",
    "    \n",
    "    Ps = [projection(yy,xx,epsilon,theta_hat_old) for yy,xx in zip(y_active,X_active)]\n",
    "    const = norm(theta_hat_old - sum(w[:,np.newaxis]*Ps))**2\n",
    "    M = w.dot(np.array([norm(p-theta_hat_old)**2 for p in Ps])/const)\n",
    "    mu = factor*M\n",
    "    theta_hat_new = theta_hat_old + mu*(sum(w[:,np.newaxis]*Ps)-theta_hat_old)\n",
    "                     \n",
    "    mse.append(10*np.log10(np.mean((theta - theta_hat_new)**2)))\n",
    "\n",
    "                     "
   ]
  },
  {
   "cell_type": "code",
   "execution_count": 82,
   "metadata": {},
   "outputs": [
    {
     "data": {
      "image/png": "[encoded data removed]",
      "text/plain": [
       "<matplotlib.figure.Figure at 0x7fe650932358>"
      ]
     },
     "metadata": {},
     "output_type": "display_data"
    }
   ],
   "source": [
    "# plot the results\n",
    "import matplotlib.pyplot as plt\n",
    "plt.figure()\n",
    "plt.plot(mse,color='r',label='APSM')\n",
    "plt.ylabel('MSE [dB]')\n",
    "plt.legend(loc='upper right')\n",
    "plt.show()"
   ]
  },
  {
   "cell_type": "code",
   "execution_count": null,
   "metadata": {
    "collapsed": true
   },
   "outputs": [],
   "source": []
  }
 ],
 "metadata": {
  "kernelspec": {
   "display_name": "Python 3",
   "language": "python",
   "name": "python3"
  },
  "language_info": {
   "codemirror_mode": {
    "name": "ipython",
    "version": 3
   },
   "file_extension": ".py",
   "mimetype": "text/x-python",
   "name": "python",
   "nbconvert_exporter": "python",
   "pygments_lexer": "ipython3",
   "version": "3.6.5"
  }
 },
 "nbformat": 4,
 "nbformat_minor": 2
}

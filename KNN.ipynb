{
 "cells": [
  {
   "cell_type": "markdown",
   "metadata": {},
   "source": [
    "# KNN Classifier"
   ]
  },
  {
   "cell_type": "code",
   "execution_count": 1,
   "metadata": {
    "collapsed": true
   },
   "outputs": [],
   "source": [
    "# import data\n",
    "from sklearn import datasets\n",
    "iris = datasets.load_iris()\n",
    "X = iris.data[:,[2,3]]\n",
    "y = iris.target\n",
    "\n",
    "from sklearn.model_selection import train_test_split\n",
    "X_train,X_test,y_train,y_test = train_test_split(X,y,test_size=0.3,random_state=1,stratify=y)"
   ]
  },
  {
   "cell_type": "code",
   "execution_count": 45,
   "metadata": {
    "collapsed": true
   },
   "outputs": [],
   "source": [
    "import numpy as np\n",
    "        \n",
    "def distance(x,y,p):\n",
    "    \"\"\"Return the l_p distance \"\"\"\n",
    "    return sum(np.abs(x-y)**p)**(1/p)\n",
    "\n",
    "\n",
    "\n",
    "class KNN(object):\n",
    "    \"\"\"The K Nearest Neighbours Classifer\"\"\"\n",
    "    def __init__(self,k=3,p=2):\n",
    "        self.k = k\n",
    "        self.p = p # l_p norm distance\n",
    "    \n",
    "    def kdists(self,x_t):\n",
    "        \"\"\"return the k neareast neighbours\"\"\"\n",
    "        all_dists = np.array([distance(x_t,x,self.p) for x in self.X])\n",
    "        idx = sorted(range(len(all_dists)),key=lambda x: all_dists[x])\n",
    "        #print(all_dists)\n",
    "        #print(all_dists[idx[:self.k]])\n",
    "        return idx[:self.k]\n",
    "   \n",
    "    def vote(self,y):\n",
    "        \"\"\"Vote for the most popular label \"\"\"\n",
    "        v,c =  np.unique(y,return_counts=True)\n",
    "        ind = np.argmax(c)\n",
    "        return v[ind]\n",
    "    \n",
    "    def fit(self,X,y):\n",
    "        self.X = X\n",
    "        self.y = y\n",
    "        \n",
    "    \n",
    "    def predict(self,X):\n",
    "        return np.array([self.vote(self.y[self.kdists(x)]) for x in X])"
   ]
  },
  {
   "cell_type": "code",
   "execution_count": 46,
   "metadata": {
    "collapsed": true
   },
   "outputs": [],
   "source": [
    "knn = KNN(k=5,p=2)\n",
    "knn.fit(X_train,y_train)"
   ]
  },
  {
   "cell_type": "code",
   "execution_count": 47,
   "metadata": {},
   "outputs": [
    {
     "data": {
      "text/plain": [
       "array([2, 0, 0, 1, 1, 1, 2, 1, 2, 0, 0, 2, 0, 1, 0, 1, 2, 1, 1, 2, 2, 0,\n",
       "       1, 2, 1, 1, 1, 2, 0, 2, 0, 0, 1, 1, 2, 2, 0, 0, 0, 1, 2, 2, 1, 0,\n",
       "       0])"
      ]
     },
     "execution_count": 47,
     "metadata": {},
     "output_type": "execute_result"
    }
   ],
   "source": [
    "knn.predict(X_test)"
   ]
  },
  {
   "cell_type": "code",
   "execution_count": 48,
   "metadata": {},
   "outputs": [
    {
     "data": {
      "text/plain": [
       "array([2, 0, 0, 2, 1, 1, 2, 1, 2, 0, 0, 2, 0, 1, 0, 1, 2, 1, 1, 2, 2, 0,\n",
       "       1, 2, 1, 1, 1, 2, 0, 2, 0, 0, 1, 1, 2, 2, 0, 0, 0, 1, 2, 2, 1, 0,\n",
       "       0])"
      ]
     },
     "execution_count": 48,
     "metadata": {},
     "output_type": "execute_result"
    }
   ],
   "source": [
    "y_test"
   ]
  },
  {
   "cell_type": "code",
   "execution_count": 49,
   "metadata": {},
   "outputs": [
    {
     "data": {
      "image/png": "[encoded data removed]",
      "text/plain": [
       "<matplotlib.figure.Figure at 0x7fe395722470>"
      ]
     },
     "metadata": {},
     "output_type": "display_data"
    }
   ],
   "source": [
    "  import pandas as pd\n",
    "  import matplotlib.pyplot as plt\n",
    "  import numpy as np\n",
    "  from Perceptron import plot_decision_regions\n",
    "\n",
    "  #plt.figure()\n",
    "  plot_decision_regions(X,y,classifier=knn)\n",
    "  plt.title('KNN')\n",
    "  plt.xlabel('sepal length [standardized]')\n",
    "  plt.ylabel('petal length [standardized]')\n",
    "  plt.show()"
   ]
  },
  {
   "cell_type": "code",
   "execution_count": null,
   "metadata": {
    "collapsed": true
   },
   "outputs": [],
   "source": []
  }
 ],
 "metadata": {
  "kernelspec": {
   "display_name": "Python 3",
   "language": "python",
   "name": "python3"
  },
  "language_info": {
   "codemirror_mode": {
    "name": "ipython",
    "version": 3
   },
   "file_extension": ".py",
   "mimetype": "text/x-python",
   "name": "python",
   "nbconvert_exporter": "python",
   "pygments_lexer": "ipython3",
   "version": "3.6.2"
  }
 },
 "nbformat": 4,
 "nbformat_minor": 2
}

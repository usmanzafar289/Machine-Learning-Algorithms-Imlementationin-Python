{
 "cells": [
  {
   "cell_type": "markdown",
   "metadata": {},
   "source": [
    "# Compressed sensing matching pursuit (CSMP) algorithms"
   ]
  },
  {
   "cell_type": "markdown",
   "metadata": {},
   "source": [
    "## reference: Sergios' Machine Learning book, Sec. 10.2"
   ]
  },
  {
   "cell_type": "code",
   "execution_count": 90,
   "metadata": {
    "collapsed": true
   },
   "outputs": [],
   "source": [
    "\n",
    "# coding: utf-8\n",
    "\n",
    "# # Compressed sensing matching pursuit (CSMP)\n",
    "# reference: Sergios' Machine Learning book, Chapt.10\n",
    "import numpy as np\n",
    "\n",
    "\n",
    "def corr(x,y):\n",
    "    return abs(x.dot(y))/np.sqrt((x**2).sum())\n",
    "\n",
    "class CSMP(object):\n",
    "    \"\"\" Orthogonal Matching Pursuit (OMP) algorithm class\"\"\"\n",
    "    def __init__(self, k=1, t=1, err_tol=0.001, random_state=0,max_iter=100):\n",
    "        self.err_tol = err_tol\n",
    "        self.random_state = random_state\n",
    "        self.t = t # the number of columns to consider in each iteration\n",
    "        self.k =k #  the estimated vector is k sparse\n",
    "        self.max_iter = max_iter\n",
    "        \n",
    "    def estimate(self,X,y):\n",
    "        L = X.shape[1]\n",
    "        theta = np.zeros(L)\n",
    "        error = y\n",
    "        S = [] # the support\n",
    "        ii = 0\n",
    "\n",
    "        while np.linalg.norm(error) > self.err_tol and ii < self.max_iter:\n",
    "            # find the column has maximum correlation with the error\n",
    "            corrs = [ corr(x,error) for x in X.T]\n",
    "            # find the largets t elements\n",
    "            indices = np.argpartition(corrs,-self.t)[-self.t:]\n",
    "            S = np.union1d(S,indices).astype(int)\n",
    "            #print(S)\n",
    "            X_active = X[:,S]\n",
    "            #print(X_active.shape)\n",
    "            # LS estimate using active support\n",
    "            theta_tilde = np.linalg.inv(X_active.T.dot(X_active)).dot(X_active.T).dot(y)\n",
    "            \n",
    "            ind_k = np.argpartition(abs(theta_tilde),-self.k)[-self.k:]\n",
    "            # insert estimated theta into the correct location\n",
    "            theta = np.zeros(L)\n",
    "            theta[np.array(S)[ind_k]] = theta_tilde[ind_k]\n",
    "            #print(np.array(S)[ind_k])\n",
    "            #print(theta_tilde[ind_k])\n",
    "            # update the error vector\n",
    "            error = y-X.dot(theta)\n",
    "            ii+=1\n",
    "        self.theta = theta\n",
    "        self.n_iters = ii\n",
    "        self.errors = np.linalg.norm(error)\n",
    "        return self\n"
   ]
  },
  {
   "cell_type": "code",
   "execution_count": 91,
   "metadata": {},
   "outputs": [],
   "source": [
    "\n",
    "def main():\n",
    "    \n",
    "    L = 50 # dimension of the unknown vector w \n",
    "    k0 = 3 # assume w is k0-sparse\n",
    "    w = np.zeros(L)\n",
    "    rgn = np.random.RandomState(0)\n",
    "    N_max = 45 # max number of sensing samples\n",
    "   \n",
    "    # randomly choose k0 entries, and randomly assign values\n",
    "    w[rgn.randint(0,L,k0)] = rgn.normal(loc=0.0,scale=1.0,size=k0)\n",
    "\n",
    "    csmp = CSMP(err_tol=0.001,k=k0,t=k0)\n",
    "    errors = [] # trace the errors \n",
    "    start=2*k0\n",
    "    for N in range(start,N_max):\n",
    "        X = rgn.normal(loc=0.0,scale=1.0,size=(N,L))\n",
    "        y = X.dot(w)\n",
    "        csmp.estimate(X,y)\n",
    "        w_hat = csmp.theta\n",
    "        errors.append(np.linalg.norm(w-w_hat))\n",
    "        #print(w)\n",
    "        #print(w_hat)\n",
    "        \n",
    "    # visualize the errors\n",
    "    import matplotlib.pyplot as plt\n",
    "    plt.figure()\n",
    "    plt.plot(np.arange(start,N_max), errors,marker='o')\n",
    "    plt.ylabel('l2-norm error')\n",
    "    plt.xlabel('# of samples')\n",
    "    plt.title('Performance of the CSMP algorithm')\n",
    "    plt.show()"
   ]
  },
  {
   "cell_type": "code",
   "execution_count": 92,
   "metadata": {},
   "outputs": [
    {
     "data": {
      "image/png": "[encoded data removed]",
      "text/plain": [
       "<matplotlib.figure.Figure at 0x7fbf1b870cc0>"
      ]
     },
     "metadata": {},
     "output_type": "display_data"
    }
   ],
   "source": [
    "if __name__=='__main__':\n",
    "    main()"
   ]
  },
  {
   "cell_type": "code",
   "execution_count": null,
   "metadata": {
    "collapsed": true
   },
   "outputs": [],
   "source": []
  }
 ],
 "metadata": {
  "kernelspec": {
   "display_name": "Python 3",
   "language": "python",
   "name": "python3"
  },
  "language_info": {
   "codemirror_mode": {
    "name": "ipython",
    "version": 3
   },
   "file_extension": ".py",
   "mimetype": "text/x-python",
   "name": "python",
   "nbconvert_exporter": "python",
   "pygments_lexer": "ipython3",
   "version": "3.6.5"
  }
 },
 "nbformat": 4,
 "nbformat_minor": 2
}

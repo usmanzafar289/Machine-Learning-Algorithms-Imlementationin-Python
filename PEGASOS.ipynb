{
 "cells": [
  {
   "cell_type": "markdown",
   "metadata": {},
   "source": [
    "# The Primal Estimated Subgradient Solver for SVM (PEGASOS)"
   ]
  },
  {
   "cell_type": "markdown",
   "metadata": {},
   "source": [
    "### reference: \"Pegasos: Primal Estimated sub-GrAdient SOlver for SVM\""
   ]
  },
  {
   "cell_type": "code",
   "execution_count": 84,
   "metadata": {},
   "outputs": [],
   "source": [
    "# Define the Pegasos solver\n",
    "import numpy as np\n",
    "def norm(x):\n",
    "    \"\"\"Calculate the l2 norm\"\"\"\n",
    "    return np.sqrt(sum(x**2))\n",
    "\n",
    "\n",
    "class PEGASOS(object):\n",
    "    \"\"\"the Primal Estimated subgradient SOlver for Svm\n",
    "    reference: Pegasos: Primal Estimated sub-GrAdient SOlver for SVM\"\"\"\n",
    "    def __init__(self,ll=0.9,m=5,Ni=30,random_state=1):\n",
    "        self.random_state = random_state\n",
    "        self.Ni = Ni\n",
    "        self.m = m # mini-batch size\n",
    "        self.lambda1=ll\n",
    "        \n",
    "    def fit(self,X,y):\n",
    "        N = len(y)\n",
    "        X = np.hstack([X,np.ones((N,1))]) \n",
    "        rgen = np.random.RandomState(self.random_state)\n",
    "        for i in range(self.Ni):\n",
    "            if i ==0:\n",
    "                theta_old = np.zeros((X.shape[1]))\n",
    "            else:\n",
    "                theta_old = theta_new1\n",
    "            #print(theta_old)    \n",
    "            n = i+1\n",
    "            idx = rgen.randint(low=0,high=N,size=self.m)\n",
    "            mu = 1/(self.lambda1*n)\n",
    "            subgradiants = [yy*xx for yy,xx in zip(y[idx],X[idx,:]) if yy*theta_old.T.dot(xx)< 1]\n",
    "            if len(subgradiants)==0:\n",
    "                theta_new = theta_old*(1-mu*self.lambda1)\n",
    "            else:\n",
    "                theta_new = theta_old*(1-mu*self.lambda1) + mu*np.mean(subgradiants,axis=0)\n",
    "                \n",
    "            theta_new1 = np.min([1,1/(np.sqrt(self.lambda1)*norm(theta_new))])*theta_new # projection on B(0,1/sqrt(lambda))            \n",
    "        self.theta = theta_new1\n",
    "    def predict(self,X):\n",
    "        N=X.shape[0]\n",
    "        X = np.hstack([X,np.ones((N,1))]) \n",
    "        return np.array([np.where(x.dot(self.theta) > 0, 1,-1) for x in X])"
   ]
  },
  {
   "cell_type": "code",
   "execution_count": 97,
   "metadata": {},
   "outputs": [
    {
     "data": {
      "image/png": "[encoded data removed]",
      "text/plain": [
       "<matplotlib.figure.Figure at 0x7f622531a780>"
      ]
     },
     "metadata": {},
     "output_type": "display_data"
    }
   ],
   "source": [
    "import pandas as pd\n",
    "import matplotlib.pyplot as plt\n",
    "import numpy as np\n",
    "from Perceptron import plot_decision_regions\n",
    "\n",
    "df=pd.read_csv('iris.data')\n",
    "df.tail()\n",
    "\n",
    "# extract setosa and versicolor\n",
    "y = df.iloc[0:100,4].values\n",
    "y = np.where(y =='Iris-setosa', -1,1)\n",
    "# extract sepal length and petal length\n",
    "X = df.iloc[0:100,[0,2]].values\n",
    "\n",
    "# standardize the features\n",
    "X_std = np.copy(X)\n",
    "X_std[:,0] = (X[:,0]-X[:,0].mean()) /X[:,0].std()\n",
    "X_std[:,1] = (X[:,1]-X[:,1].mean()) /X[:,1].std()\n",
    "\n",
    "# instantiate the PEGASOS classifier\n",
    "pegasos = PEGASOS(0.1,m=20,Ni=40,random_state=1)\n",
    "pegasos.fit(X_std,y)\n",
    "\n",
    "#print(pegasos.theta)\n",
    "# plot the decision regions\n",
    "plt.figure()\n",
    "plot_decision_regions(X_std,y,classifier=pegasos)\n",
    "plt.title(pegasos.__class__.__name__)\n",
    "plt.xlabel('sepal length [standardized]')\n",
    "plt.ylabel('petal length [standardized]')\n",
    "plt.show()\n"
   ]
  },
  {
   "cell_type": "code",
   "execution_count": null,
   "metadata": {
    "collapsed": true
   },
   "outputs": [],
   "source": []
  }
 ],
 "metadata": {
  "kernelspec": {
   "display_name": "Python 3",
   "language": "python",
   "name": "python3"
  },
  "language_info": {
   "codemirror_mode": {
    "name": "ipython",
    "version": 3
   },
   "file_extension": ".py",
   "mimetype": "text/x-python",
   "name": "python",
   "nbconvert_exporter": "python",
   "pygments_lexer": "ipython3",
   "version": "3.6.2"
  }
 },
 "nbformat": 4,
 "nbformat_minor": 2
}
